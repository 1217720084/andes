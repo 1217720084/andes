{
 "cells": [
  {
   "cell_type": "markdown",
   "metadata": {},
   "source": [
    "Consolidated create case file"
   ]
  },
  {
   "cell_type": "code",
   "execution_count": null,
   "metadata": {},
   "outputs": [],
   "source": [
    "header = \"\"\"# DOME format 1.0\n",
    "# Two 14-bus system with \n",
    "\n",
    "\"\"\"\n",
    "with  open('a1_local_case1.dm', 'w') as fid:\n",
    "    fid.write(\"\"\"\n",
    "INCLUDE, ieee28.dm\n",
    "\n",
    "ALTER, VSC1_IE2, REP, VSC 1, Ki, 0\n",
    "ALTER, VSC1_IE2, REP, VSC 1, Kdc, 0\n",
    "ALTER, VSC1_IE1, REP, VSC 1, busfreq, 1\n",
    "\n",
    "ALTER, VSC1_IE2, REP, VSC 2, Ki, 0\n",
    "ALTER, VSC1_IE2, REP, VSC 2, Kdc, 0\n",
    "ALTER, VSC1_IE1, REP, VSC 2, busfreq, 202\n",
    "\n",
    "ALTER, WTG4DC, REP, WTG4 1, Kdc, 0\n",
    "ALTER, WTG4DC, REP, WTG4 2, Kdc, 0\n",
    "\"\"\")\n",
    "\n",
    "with  open('case2.dm', 'w') as fid:\n",
    "    fid.write(\"\"\"# DOME format 1.0\n",
    "INCLUDE, ieee28.dm\n",
    "\n",
    "ALTER, VSC1_IE2, REP, VSC 1, Ki, 50\n",
    "ALTER, VSC1_IE2, REP, VSC 1, Kdc, 0\n",
    "ALTER, VSC1_IE1, REP, VSC 1, busfreq, 1\n",
    "\n",
    "ALTER, VSC1_IE2, REP, VSC 2, Ki, 50\n",
    "ALTER, VSC1_IE2, REP, VSC 2, Kdc, 10\n",
    "ALTER, VSC1_IE1, REP, VSC 2, busfreq, 202\n",
    "\n",
    "ALTER, WTG4DC, REP, WTG4 1, Kdc, 0\n",
    "ALTER, WTG4DC, REP, WTG4 2, Kdc, 0\n",
    "\"\"\")\n",
    "\n",
    "with  open('case3.dm', 'w') as fid:\n",
    "    fid.write(\"\"\"# DOME format 1.0\n",
    "INCLUDE, ieee28.dm\n",
    "\n",
    "ALTER, VSC1_IE2, REP, VSC 1, Ki, -0\n",
    "ALTER, VSC1_IE2, MUL, VSC 1, Kdc, 0\n",
    "ALTER, VSC1_IE1, REP, VSC 1, busfreq, 1\n",
    "\n",
    "ALTER, VSC1_IE2, REP, VSC 2, Ki, 50\n",
    "ALTER, VSC1_IE2, REP, VSC 2, Kdc, 10\n",
    "ALTER, VSC1_IE1, REP, VSC 2, busfreq, 202\n",
    "\n",
    "ALTER, WTG4DC, REP, WTG4 1, Kdc, 10\n",
    "ALTER, WTG4DC, REP, WTG4 2, Kdc, 10\n",
    "\"\"\")\n",
    "\n",
    "with  open('case4.dm', 'w') as fid:\n",
    "    fid.write(\"\"\"# DOME format 1.0\n",
    "INCLUDE, ieee28.dm\n",
    "\n",
    "ALTER, VSC1_IE2, REP, VSC 1, Ki, 50\n",
    "ALTER, VSC1_IE2, REP, VSC 1, Kdc, 0\n",
    "ALTER, VSC1_IE1, REP, VSC 1, busfreq, 1\n",
    "\n",
    "ALTER, VSC1_IE2, REP, VSC 2, Ki, 50\n",
    "ALTER, VSC1_IE2, REP, VSC 2, Kdc, 10\n",
    "ALTER, VSC1_IE1, REP, VSC 2, busfreq, 202\n",
    "\n",
    "ALTER, WTG4DC, REP, WTG4 1, Kdc, 10\n",
    "ALTER, WTG4DC, REP, WTG4 2, Kdc, 10\n",
    "\"\"\")"
   ]
  }
 ],
 "metadata": {
  "kernelspec": {
   "display_name": "Python 3",
   "language": "python",
   "name": "python3"
  },
  "language_info": {
   "codemirror_mode": {
    "name": "ipython",
    "version": 3
   },
   "file_extension": ".py",
   "mimetype": "text/x-python",
   "name": "python",
   "nbconvert_exporter": "python",
   "pygments_lexer": "ipython3",
   "version": "3.5.2"
  }
 },
 "nbformat": 4,
 "nbformat_minor": 2
}
