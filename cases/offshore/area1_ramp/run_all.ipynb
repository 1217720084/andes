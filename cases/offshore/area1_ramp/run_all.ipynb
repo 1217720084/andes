{
 "cells": [
  {
   "cell_type": "markdown",
   "metadata": {},
   "source": [
    "<script>\n",
    "  function code_toggle() {\n",
    "    if (code_shown){\n",
    "      $('div.input').hide('500');\n",
    "      $('#toggleButton').val('Show Code')\n",
    "    } else {\n",
    "      $('div.input').show('500');\n",
    "      $('#toggleButton').val('Hide Code')\n",
    "    }\n",
    "    code_shown = !code_shown\n",
    "  }\n",
    "\n",
    "  $( document ).ready(function(){\n",
    "    code_shown=false;\n",
    "    $('div.input').hide()\n",
    "  });\n",
    "</script>\n",
    "<form action=\"javascript:code_toggle()\"><input type=\"submit\" id=\"toggleButton\" value=\"Show Code\"></form>"
   ]
  },
  {
   "cell_type": "markdown",
   "metadata": {},
   "source": [
    "# Case Descriptions\n",
    "\n",
    "## ROCOF based methods\n",
    "\n",
    "0.4 pu load ramping on Bus 12 in Area 1\n",
    "\n",
    " - _Case 1_: No inertia emulation at all\n",
    " - _Case 2_: Power Sharing between areas (VSC 1 and 2 local inertia emulation enabled, VSC 2 dc droop enabled)\n",
    " - _Case 3_: WTG inertia response (VSC 1 inertia emulation, WTGs IE enabled)\n",
    " - _Case 4_: Area power sharing with WTG inertial response (VSC 1 and 2 inertia emulation enabled. Observe inadequate responses from WTGs)\n",
    " - _Case 5_: Adequate inertial response from WTGs (additional frequency information from grid areas)\n",
    "\n",
    "Load Ramping in Area 1"
   ]
  },
  {
   "cell_type": "code",
   "execution_count": 1,
   "metadata": {},
   "outputs": [],
   "source": [
    "with  open('case1.dm', 'w') as fid:\n",
    "    fid.write(\"\"\"# DOME format 1.0\n",
    "INCLUDE, ieee28.dm\n",
    "\n",
    "ALTER, VSC1_IE2, REP, VSC 1, Ki, 0\n",
    "ALTER, VSC1_IE2, REP, VSC 1, Kdc, 0\n",
    "\n",
    "ALTER, VSC1_IE2, REP, VSC 2, Ki, 0\n",
    "ALTER, VSC1_IE2, REP, VSC 2, Kdc, 0\n",
    "\n",
    "ALTER, WTG4DC, REP, WTG4 1, Kdc, 0\n",
    "ALTER, WTG4DC, REP, WTG4 2, Kdc, 0\n",
    "\"\"\")\n",
    "\n",
    "with  open('case2.dm', 'w') as fid:\n",
    "    fid.write(\"\"\"# DOME format 1.0\n",
    "INCLUDE, ieee28.dm\n",
    "\n",
    "ALTER, VSC1_IE2, REP, VSC 1, Ki, -50\n",
    "ALTER, VSC1_IE2, REP, VSC 1, Kdc, 0\n",
    "\n",
    "ALTER, VSC1_IE2, REP, VSC 2, Ki, 50\n",
    "ALTER, VSC1_IE2, REP, VSC 2, Kdc, 10\n",
    "\n",
    "ALTER, WTG4DC, REP, WTG4 1, Kdc, 0\n",
    "ALTER, WTG4DC, REP, WTG4 2, Kdc, 0\n",
    "\"\"\")\n",
    "\n",
    "with  open('case3.dm', 'w') as fid:\n",
    "    fid.write(\"\"\"# DOME format 1.0\n",
    "INCLUDE, ieee28.dm\n",
    "\n",
    "ALTER, VSC1_IE2, REP, VSC 1, Ki, -50\n",
    "ALTER, VSC1_IE2, REP, VSC 1, Kdc, 0\n",
    "\n",
    "ALTER, VSC1_IE2, REP, VSC 2, Ki, 0\n",
    "ALTER, VSC1_IE2, REP, VSC 2, Kdc, 0\n",
    "\n",
    "ALTER, WTG4DC, REP, WTG4 1, Kdc, 10\n",
    "ALTER, WTG4DC, REP, WTG4 2, Kdc, 10\n",
    "\"\"\")\n",
    "\n",
    "with  open('case4.dm', 'w') as fid:\n",
    "    fid.write(\"\"\"# DOME format 1.0\n",
    "INCLUDE, ieee28.dm\n",
    "\n",
    "\n",
    "ALTER, VSC1_IE2, REP, VSC 1, Ki, -50\n",
    "ALTER, VSC1_IE2, REP, VSC 1, Kdc, 0\n",
    "\n",
    "ALTER, VSC1_IE2, REP, VSC 2, Ki, 50\n",
    "ALTER, VSC1_IE2, REP, VSC 2, Kdc, 10\n",
    "\n",
    "ALTER, WTG4DC, REP, WTG4 1, Kdc, 10\n",
    "ALTER, WTG4DC, REP, WTG4 2, Kdc, 10\n",
    "\"\"\")"
   ]
  },
  {
   "cell_type": "code",
   "execution_count": 2,
   "metadata": {},
   "outputs": [],
   "source": [
    "%matplotlib inline\n",
    "\n",
    "import os\n",
    "\n",
    "from matplotlib import pyplot\n",
    "import andes\n",
    "from andes.main import run\n",
    "from andes.plot import main as andesplot\n",
    "from andes.plot import read_dat, read_label, do_plot, add_plot\n",
    "import logging\n",
    "\n",
    "andes.main.config_logger(log_file=None, stream_level=logging.DEBUG)"
   ]
  },
  {
   "cell_type": "code",
   "execution_count": 3,
   "metadata": {},
   "outputs": [],
   "source": [
    "import cvxoptklu"
   ]
  },
  {
   "cell_type": "code",
   "execution_count": 4,
   "metadata": {},
   "outputs": [
    {
     "name": "stderr",
     "output_type": "stream",
     "text": [
      "Input format guessed as dome.\n",
      "Parsing input file <case1.dm>\n",
      "Parsing include file <ieee28.dm>\n",
      "Imported model <vsc.VSC1_IE2>.\n",
      "Imported model <windturbine.WTG4DC>.\n",
      "Imported model <vsc.VSC>.\n",
      "Imported model <wind.ConstWind>.\n",
      "Parsing of include file <ieee28.dm> completed.\n",
      "Case file case1.dm parsed in 0.0169 second.\n",
      "-> Power flow study: NR method, non-flat start\n",
      "System contains 2 islands and 0 islanded buses.\n",
      "Each island has a slack bus correctly defined.\n",
      "Power flow initialized in 0.0106 second.\n",
      " Iter 1.  max mismatch = 1.4701436\n",
      " Iter 2.  max mismatch = 0.3985662\n",
      " Iter 3.  max mismatch = 0.0009131\n",
      " Iter 4.  max mismatch = 0.0000008\n",
      " Solution converged in 0.0242 second in 4 iterations\n",
      "Dynamic models initialized in 0.0038 second.\n",
      "report written to <case1_out.txt> in 0.0059 second.\n",
      "-> Eigenvalue Analysis:\n",
      "report saved.\n",
      "System is small-signal stable in the initial neighbourhood.\n"
     ]
    },
    {
     "data": {
      "image/png": "[encoded data removed]",
      "text/plain": [
       "<Figure size 432x288 with 1 Axes>"
      ]
     },
     "metadata": {
      "needs_background": "light"
     },
     "output_type": "display_data"
    },
    {
     "name": "stderr",
     "output_type": "stream",
     "text": [
      "Eigenvalue analysis finished in 0.3313 second.\n",
      "Input format guessed as dome.\n",
      "Parsing input file <case2.dm>\n",
      "Parsing include file <ieee28.dm>\n",
      "Imported model <vsc.VSC1_IE2>.\n",
      "Imported model <windturbine.WTG4DC>.\n",
      "Imported model <vsc.VSC>.\n",
      "Imported model <wind.ConstWind>.\n",
      "Parsing of include file <ieee28.dm> completed.\n",
      "Case file case2.dm parsed in 0.0135 second.\n",
      "-> Power flow study: NR method, non-flat start\n",
      "System contains 2 islands and 0 islanded buses.\n",
      "Each island has a slack bus correctly defined.\n",
      "Power flow initialized in 0.0203 second.\n",
      " Iter 1.  max mismatch = 1.4701436\n",
      " Iter 2.  max mismatch = 0.3985662\n",
      " Iter 3.  max mismatch = 0.0009131\n",
      " Iter 4.  max mismatch = 0.0000008\n",
      " Solution converged in 0.0245 second in 4 iterations\n",
      "Dynamic models initialized in 0.0066 second.\n",
      "report written to <case2_out.txt> in 0.0052 second.\n",
      "-> Eigenvalue Analysis:\n",
      "report saved.\n",
      "System is small-signal stable in the initial neighbourhood.\n"
     ]
    },
    {
     "data": {
      "image/png": "[encoded data removed]",
      "text/plain": [
       "<Figure size 432x288 with 1 Axes>"
      ]
     },
     "metadata": {
      "needs_background": "light"
     },
     "output_type": "display_data"
    },
    {
     "name": "stderr",
     "output_type": "stream",
     "text": [
      "Eigenvalue analysis finished in 0.3270 second.\n",
      "Input format guessed as dome.\n",
      "Parsing input file <case3.dm>\n",
      "Parsing include file <ieee28.dm>\n",
      "Imported model <vsc.VSC1_IE2>.\n",
      "Imported model <windturbine.WTG4DC>.\n",
      "Imported model <vsc.VSC>.\n",
      "Imported model <wind.ConstWind>.\n",
      "Parsing of include file <ieee28.dm> completed.\n",
      "Case file case3.dm parsed in 0.0165 second.\n",
      "-> Power flow study: NR method, non-flat start\n",
      "System contains 2 islands and 0 islanded buses.\n",
      "Each island has a slack bus correctly defined.\n",
      "Power flow initialized in 0.0015 second.\n",
      " Iter 1.  max mismatch = 1.4701436\n",
      " Iter 2.  max mismatch = 0.3985662\n",
      " Iter 3.  max mismatch = 0.0009131\n",
      " Iter 4.  max mismatch = 0.0000008\n",
      " Solution converged in 0.0151 second in 4 iterations\n",
      "Dynamic models initialized in 0.0233 second.\n",
      "report written to <case3_out.txt> in 0.0130 second.\n",
      "-> Eigenvalue Analysis:\n",
      "report saved.\n",
      "System is small-signal stable in the initial neighbourhood.\n"
     ]
    },
    {
     "data": {
      "image/png": "[encoded data removed]",
      "text/plain": [
       "<Figure size 432x288 with 1 Axes>"
      ]
     },
     "metadata": {
      "needs_background": "light"
     },
     "output_type": "display_data"
    },
    {
     "name": "stderr",
     "output_type": "stream",
     "text": [
      "Eigenvalue analysis finished in 0.3585 second.\n",
      "Input format guessed as dome.\n",
      "Parsing input file <case4.dm>\n",
      "Parsing include file <ieee28.dm>\n",
      "Imported model <vsc.VSC1_IE2>.\n",
      "Imported model <windturbine.WTG4DC>.\n",
      "Imported model <vsc.VSC>.\n",
      "Imported model <wind.ConstWind>.\n",
      "Parsing of include file <ieee28.dm> completed.\n",
      "Case file case4.dm parsed in 0.0176 second.\n",
      "-> Power flow study: NR method, non-flat start\n",
      "System contains 2 islands and 0 islanded buses.\n",
      "Each island has a slack bus correctly defined.\n",
      "Power flow initialized in 0.0140 second.\n",
      " Iter 1.  max mismatch = 1.4701436\n",
      " Iter 2.  max mismatch = 0.3985662\n",
      " Iter 3.  max mismatch = 0.0009131\n",
      " Iter 4.  max mismatch = 0.0000008\n",
      " Solution converged in 0.0145 second in 4 iterations\n",
      "Dynamic models initialized in 0.0049 second.\n",
      "report written to <case4_out.txt> in 0.0044 second.\n",
      "-> Eigenvalue Analysis:\n",
      "report saved.\n",
      "System is small-signal stable in the initial neighbourhood.\n"
     ]
    },
    {
     "data": {
      "image/png": "[encoded data removed]",
      "text/plain": [
       "<Figure size 432x288 with 1 Axes>"
      ]
     },
     "metadata": {
      "needs_background": "light"
     },
     "output_type": "display_data"
    },
    {
     "name": "stderr",
     "output_type": "stream",
     "text": [
      "Eigenvalue analysis finished in 0.3052 second.\n",
      "Input format guessed as dome.\n",
      "Parsing input file <case1.dm>\n",
      "Parsing include file <ieee28.dm>\n",
      "Imported model <vsc.VSC1_IE2>.\n",
      "Imported model <windturbine.WTG4DC>.\n",
      "Imported model <vsc.VSC>.\n",
      "Imported model <wind.ConstWind>.\n",
      "Parsing of include file <ieee28.dm> completed.\n",
      "Case file case1.dm parsed in 0.0100 second.\n",
      "-> Power flow study: NR method, non-flat start\n",
      "System contains 2 islands and 0 islanded buses.\n",
      "Each island has a slack bus correctly defined.\n",
      "Power flow initialized in 0.0085 second.\n",
      " Iter 1.  max mismatch = 1.4701436\n",
      " Iter 2.  max mismatch = 0.3985662\n",
      " Iter 3.  max mismatch = 0.0009131\n",
      " Iter 4.  max mismatch = 0.0000008\n",
      " Solution converged in 0.0112 second in 4 iterations\n",
      "Dynamic models initialized in 0.0035 second.\n",
      "report written to <case1_out.txt> in 0.0052 second.\n",
      "-> Time Domain Simulation: trapezoidal method, t=20 s\n",
      "Load on Bus 12 ramped up by 0.4 pu at t = 2                    |ETA:  0:00:01] \n",
      " [100%|########################################################|Time: 0:00:03] \n",
      " Time domain simulation finished in 3.8688 seconds.\n",
      "Simulation data dumped in 0.1704 second.\n",
      "Input format guessed as dome.\n",
      "Parsing input file <case2.dm>\n",
      "Parsing include file <ieee28.dm>\n",
      "Imported model <vsc.VSC1_IE2>.\n",
      "Imported model <windturbine.WTG4DC>.\n",
      "Imported model <vsc.VSC>.\n",
      "Imported model <wind.ConstWind>.\n",
      "Parsing of include file <ieee28.dm> completed.\n",
      "Case file case2.dm parsed in 0.0130 second.\n",
      "-> Power flow study: NR method, non-flat start\n",
      "System contains 2 islands and 0 islanded buses.\n",
      "Each island has a slack bus correctly defined.\n",
      "Power flow initialized in 0.0020 second.\n",
      " Iter 1.  max mismatch = 1.4701436\n",
      " Iter 2.  max mismatch = 0.3985662\n",
      " Iter 3.  max mismatch = 0.0009131\n",
      " Iter 4.  max mismatch = 0.0000008\n",
      " Solution converged in 0.0108 second in 4 iterations\n",
      "Dynamic models initialized in 0.0035 second.\n",
      "report written to <case2_out.txt> in 0.0042 second.\n",
      "-> Time Domain Simulation: trapezoidal method, t=20 s\n",
      "Load on Bus 12 ramped up by 0.4 pu at t = 2                    |ETA:  0:00:01] \n",
      " [100%|########################################################|Time: 0:00:03] \n",
      " Time domain simulation finished in 3.7628 seconds.\n",
      "Simulation data dumped in 0.1723 second.\n",
      "Input format guessed as dome.\n",
      "Parsing input file <case3.dm>\n",
      "Parsing include file <ieee28.dm>\n",
      "Imported model <vsc.VSC1_IE2>.\n",
      "Imported model <windturbine.WTG4DC>.\n",
      "Imported model <vsc.VSC>.\n",
      "Imported model <wind.ConstWind>.\n",
      "Parsing of include file <ieee28.dm> completed.\n",
      "Case file case3.dm parsed in 0.0112 second.\n",
      "-> Power flow study: NR method, non-flat start\n",
      "System contains 2 islands and 0 islanded buses.\n",
      "Each island has a slack bus correctly defined.\n",
      "Power flow initialized in 0.0012 second.\n",
      " Iter 1.  max mismatch = 1.4701436\n",
      " Iter 2.  max mismatch = 0.3985662\n",
      " Iter 3.  max mismatch = 0.0009131\n",
      " Iter 4.  max mismatch = 0.0000008\n",
      " Solution converged in 0.0071 second in 4 iterations\n",
      "Dynamic models initialized in 0.0100 second.\n",
      "report written to <case3_out.txt> in 0.0045 second.\n",
      "-> Time Domain Simulation: trapezoidal method, t=20 s\n",
      "Load on Bus 12 ramped up by 0.4 pu at t = 2                    |ETA:  0:00:01] \n",
      " [100%|########################################################|Time: 0:00:06] \n",
      " Time domain simulation finished in 6.2226 seconds.\n",
      "Simulation data dumped in 0.1867 second.\n",
      "Input format guessed as dome.\n",
      "Parsing input file <case4.dm>\n",
      "Parsing include file <ieee28.dm>\n",
      "Imported model <vsc.VSC1_IE2>.\n",
      "Imported model <windturbine.WTG4DC>.\n",
      "Imported model <vsc.VSC>.\n",
      "Imported model <wind.ConstWind>.\n",
      "Parsing of include file <ieee28.dm> completed.\n",
      "Case file case4.dm parsed in 0.0113 second.\n",
      "-> Power flow study: NR method, non-flat start\n",
      "System contains 2 islands and 0 islanded buses.\n",
      "Each island has a slack bus correctly defined.\n",
      "Power flow initialized in 0.0020 second.\n",
      " Iter 1.  max mismatch = 1.4701436\n",
      " Iter 2.  max mismatch = 0.3985662\n",
      " Iter 3.  max mismatch = 0.0009131\n",
      " Iter 4.  max mismatch = 0.0000008\n",
      " Solution converged in 0.0177 second in 4 iterations\n",
      "Dynamic models initialized in 0.0261 second.\n",
      "report written to <case4_out.txt> in 0.0044 second.\n",
      "-> Time Domain Simulation: trapezoidal method, t=20 s\n",
      "Load on Bus 12 ramped up by 0.4 pu at t = 2                    |ETA:  0:00:02] \n",
      " [100%|########################################################|Time: 0:00:05] \n",
      " Time domain simulation finished in 5.1438 seconds.\n",
      "Simulation data dumped in 0.1761 second.\n"
     ]
    },
    {
     "data": {
      "text/plain": [
       "<andes.system.PowerSystem at 0x7f55ab59b908>"
      ]
     },
     "execution_count": 4,
     "metadata": {},
     "output_type": "execute_result"
    }
   ],
   "source": [
    "run(routine=['eig'], case='case1.dm', pert='load12_ramp.py')\n",
    "run(routine=['eig'], case='case2.dm', pert='load12_ramp.py')\n",
    "run(routine=['eig'], case='case3.dm', pert='load12_ramp.py')\n",
    "run(routine=['eig'], case='case4.dm', pert='load12_ramp.py')\n",
    "\n",
    "run(routine=['tds'], case='case1.dm', pert='load12_ramp.py')\n",
    "run(routine=['tds'], case='case2.dm', pert='load12_ramp.py')\n",
    "run(routine=['tds'], case='case3.dm', pert='load12_ramp.py')\n",
    "run(routine=['tds'], case='case4.dm', pert='load12_ramp.py')"
   ]
  }
 ],
 "metadata": {
  "kernelspec": {
   "display_name": "Python 3",
   "language": "python",
   "name": "python3"
  },
  "language_info": {
   "codemirror_mode": {
    "name": "ipython",
    "version": 3
   },
   "file_extension": ".py",
   "mimetype": "text/x-python",
   "name": "python",
   "nbconvert_exporter": "python",
   "pygments_lexer": "ipython3",
   "version": "3.5.2"
  }
 },
 "nbformat": 4,
 "nbformat_minor": 2
}
