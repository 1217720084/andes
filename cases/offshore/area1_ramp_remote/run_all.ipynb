{
 "cells": [
  {
   "cell_type": "markdown",
   "metadata": {},
   "source": [
    "# Case Descriptions\n",
    "\n",
    "## ROCOF based methods w/ remote frequency sensing\n",
    "\n",
    "0.4 pu load ramping on Bus 12 in Area 1\n",
    "\n",
    " - _Case 1_: No inertia emulation at all\n",
    " - _Case 2_: Power Sharing between areas (VSC 1 and 2 local inertia emulation enabled, VSC 2 dc droop enabled)\n",
    " - _Case 3_: WTG inertia response (VSC 2 inertia emulation, WTGs IE enabled)\n",
    " - _Case 4_: Area power sharing with WTG inertial response (VSC 1 and 2 inertia emulation enabled. Observe inadequate responses from WTGs)\n",
    " - _Case 5_: Adequate inertial response from WTGs (additional frequency information from grid areas)\n",
    "\n",
    "Load Ramping in Area 1"
   ]
  },
  {
   "cell_type": "code",
   "execution_count": 1,
   "metadata": {},
   "outputs": [],
   "source": [
    "%matplotlib inline\n",
    "\n",
    "import os\n",
    "\n",
    "from matplotlib import pyplot\n",
    "\n",
    "from andes.main import run\n",
    "from andes.plot import main as andesplot\n",
    "from andes.plot import read_dat, read_label, do_plot, add_plot"
   ]
  },
  {
   "cell_type": "code",
   "execution_count": 2,
   "metadata": {},
   "outputs": [
    {
     "name": "stderr",
     "output_type": "stream",
     "text": [
      " [100%|########################################################|Time: 0:00:03] \n"
     ]
    },
    {
     "data": {
      "text/plain": [
       "<andes.system.PowerSystem at 0x7f2554329898>"
      ]
     },
     "execution_count": 2,
     "metadata": {},
     "output_type": "execute_result"
    }
   ],
   "source": [
    "with  open('case1.dm', 'w') as fid:\n",
    "    fid.write(\"\"\"# DOME format 1.0\n",
    "INCLUDE, ieee28.dm\n",
    "\n",
    "ALTER, VSC1_IE2, REP, VSC 1, Ki, 0\n",
    "ALTER, VSC1_IE2, REP, VSC 1, Kdc, 0\n",
    "\n",
    "ALTER, VSC1_IE2, REP, VSC 2, Ki, 0\n",
    "ALTER, VSC1_IE2, REP, VSC 2, Kdc, 0\n",
    "\n",
    "ALTER, WTG4DC, REP, WTG4 1, Kdc, 0\n",
    "ALTER, WTG4DC, REP, WTG4 2, Kdc, 0\n",
    "\"\"\")\n",
    "\n",
    "run(routine=['tds'], case='case1.dm', pert='load12_ramp.py')"
   ]
  },
  {
   "cell_type": "code",
   "execution_count": 3,
   "metadata": {},
   "outputs": [
    {
     "name": "stderr",
     "output_type": "stream",
     "text": [
      " [100%|########################################################|Time: 0:00:03] \n"
     ]
    },
    {
     "data": {
      "text/plain": [
       "<andes.system.PowerSystem at 0x7f2574c26080>"
      ]
     },
     "execution_count": 3,
     "metadata": {},
     "output_type": "execute_result"
    }
   ],
   "source": [
    "with  open('case2.dm', 'w') as fid:\n",
    "    fid.write(\"\"\"# DOME format 1.0\n",
    "INCLUDE, ieee28.dm\n",
    "\n",
    "ALTER, VSC1_IE2, REP, VSC 1, Ki, -50\n",
    "ALTER, VSC1_IE2, REP, VSC 1, Kdc, 0\n",
    "\n",
    "ALTER, VSC1_IE2, REP, VSC 2, Ki, -50\n",
    "ALTER, VSC1_IE2, REP, VSC 2, Kdc, 10\n",
    "\n",
    "ALTER, WTG4DC, REP, WTG4 1, Kdc, 0\n",
    "ALTER, WTG4DC, REP, WTG4 2, Kdc, 0\n",
    "\"\"\")\n",
    "run(routine=['tds'], case='case2.dm', pert='load12_ramp.py')"
   ]
  },
  {
   "cell_type": "code",
   "execution_count": 4,
   "metadata": {},
   "outputs": [
    {
     "name": "stderr",
     "output_type": "stream",
     "text": [
      " [100%|########################################################|Time: 0:00:05] \n"
     ]
    },
    {
     "data": {
      "text/plain": [
       "<andes.system.PowerSystem at 0x7f2534d17e80>"
      ]
     },
     "execution_count": 4,
     "metadata": {},
     "output_type": "execute_result"
    }
   ],
   "source": [
    "with  open('case3.dm', 'w') as fid:\n",
    "    fid.write(\"\"\"# DOME format 1.0\n",
    "INCLUDE, ieee28.dm\n",
    "\n",
    "ALTER, VSC1_IE2, REP, VSC 1, Ki, -50\n",
    "ALTER, VSC1_IE2, REP, VSC 1, Kdc, 0\n",
    "\n",
    "ALTER, VSC1_IE2, REP, VSC 2, Ki, 0\n",
    "ALTER, VSC1_IE2, REP, VSC 2, Kdc, 0\n",
    "\n",
    "ALTER, WTG4DC, REP, WTG4 1, Kdc, 10\n",
    "ALTER, WTG4DC, REP, WTG4 2, Kdc, 10\n",
    "\"\"\")\n",
    "\n",
    "run(routine=['tds'], case='case3.dm', pert='load12_ramp.py')"
   ]
  },
  {
   "cell_type": "code",
   "execution_count": 5,
   "metadata": {},
   "outputs": [
    {
     "name": "stderr",
     "output_type": "stream",
     "text": [
      " [100%|########################################################|Time: 0:00:03] \n"
     ]
    },
    {
     "data": {
      "text/plain": [
       "<andes.system.PowerSystem at 0x7f2532ccc9b0>"
      ]
     },
     "execution_count": 5,
     "metadata": {},
     "output_type": "execute_result"
    }
   ],
   "source": [
    "with  open('case4.dm', 'w') as fid:\n",
    "    fid.write(\"\"\"# DOME format 1.0\n",
    "INCLUDE, ieee28.dm\n",
    "\n",
    "\n",
    "ALTER, VSC1_IE2, REP, VSC 1, Ki, -50\n",
    "ALTER, VSC1_IE2, REP, VSC 1, Kdc, 0\n",
    "\n",
    "ALTER, VSC1_IE2, REP, VSC 2, Ki, -50\n",
    "ALTER, VSC1_IE2, REP, VSC 2, Kdc, 10\n",
    "\n",
    "ALTER, WTG4DC, REP, WTG4 1, Kdc, 10\n",
    "ALTER, WTG4DC, REP, WTG4 2, Kdc, 10\n",
    "\"\"\")\n",
    "run(routine=['tds'], case='case4.dm', pert='load12_ramp.py')"
   ]
  }
 ],
 "metadata": {
  "kernelspec": {
   "display_name": "Python 3",
   "language": "python",
   "name": "python3"
  },
  "language_info": {
   "codemirror_mode": {
    "name": "ipython",
    "version": 3
   },
   "file_extension": ".py",
   "mimetype": "text/x-python",
   "name": "python",
   "nbconvert_exporter": "python",
   "pygments_lexer": "ipython3",
   "version": "3.5.2"
  }
 },
 "nbformat": 4,
 "nbformat_minor": 2
}
