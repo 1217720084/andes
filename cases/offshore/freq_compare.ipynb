{
 "cells": [
  {
   "cell_type": "code",
   "execution_count": null,
   "metadata": {},
   "outputs": [],
   "source": [
    "%matplotlib inline\n",
    "\n",
    "import os\n",
    "\n",
    "from matplotlib import pyplot\n",
    "\n",
    "from andes.main import run\n",
    "from andes.plot import main as andesplot\n",
    "from andes.plot import read_dat, read_label, do_plot, add_plot\n",
    "\n",
    "fault_dat = 'ieee14_out.dat'\n",
    "fault_lst = 'ieee14_out.lst'\n",
    "\n",
    "gentrip_dat = 'ieee14_gentrip_out.dat'\n",
    "gentrip_lst = 'ieee14_gentrip_out.dat'\n",
    "\n"
   ]
  }
 ],
 "metadata": {
  "kernelspec": {
   "display_name": "Python 3",
   "language": "python",
   "name": "python3"
  },
  "language_info": {
   "codemirror_mode": {
    "name": "ipython",
    "version": 3
   },
   "file_extension": ".py",
   "mimetype": "text/x-python",
   "name": "python",
   "nbconvert_exporter": "python",
   "pygments_lexer": "ipython3",
   "version": "3.5.2"
  }
 },
 "nbformat": 4,
 "nbformat_minor": 2
}
